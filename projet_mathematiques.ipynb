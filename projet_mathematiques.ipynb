{
  "metadata": {
    "language_info": {
      "codemirror_mode": {
        "name": "python",
        "version": 3
      },
      "file_extension": ".py",
      "mimetype": "text/x-python",
      "name": "python",
      "nbconvert_exporter": "python",
      "pygments_lexer": "ipython3",
      "version": "3.8"
    },
    "kernelspec": {
      "name": "python",
      "display_name": "Pyolite",
      "language": "python"
    }
  },
  "nbformat_minor": 4,
  "nbformat": 4,
  "cells": [
    {
      "cell_type": "code",
      "source": "from math import factorial\nimport numpy as np\nimport math\n\n\ndef pricer_1(N,rN,hN,bN,s,f):\n    c=0\n    qN=(rN-bN)/(hN-bN)\n    for i in range(N+1):\n        m=f(s*((1+hN)**i)*((1+bN)**(N-i)))\n        c+=m*(qN**i)*((1-qN)**(N-i))*(math.factorial(N)/(math.factorial(N-i)*math.factorial(i)))\n    return c/((1+rN)**N)\n\ndef f1(x):\n    return max(x-110,0)\n\nprint(pricer_1(20,0.02,0.05,-0.05,100,f1))\n\n\ndef pricer_2(N,rN,hN,bN,s,f):\n    qN=(rN-bN)/(hN-bN)\n    Vn=[]\n    for i in range(N+1):\n        sN=s*((1+hN)**i)*((1+bN)**(N-i))\n        Vn.append(f(sN))\n    for k in range(N-1,-1,-1):\n        Vk=[]\n        for j in range(0,k+1):\n            #sj=s*((1+hN)**j)*((1+bN)**(k-j))\n            Vk.append((1/(1+rN))*(Vn[j]*(1-qN)+qN*Vn[j+1]))\n        Vn=Vk\n    return Vn[0]\n\ndef f2(x):\n    return max(x-100,0)\n\n\nprint(pricer_2(3,0.02,0.05,-0.05,100,f2))\n",
      "metadata": {
        "trusted": true
      },
      "execution_count": 1,
      "outputs": [
        {
          "name": "stdout",
          "text": "26.616941360258554\n7.063436197239379\n",
          "output_type": "stream"
        }
      ]
    },
    {
      "cell_type": "code",
      "source": "a=np.random.randint(5,15)\nprint(pricer_2(a,0.02,0.05,-0.05,100,f1) - pricer_1(a,0.02,0.05,-0.05,100,f1))",
      "metadata": {
        "trusted": true
      },
      "execution_count": 2,
      "outputs": [
        {
          "name": "stdout",
          "text": "-3.552713678800501e-15\n",
          "output_type": "stream"
        }
      ]
    },
    {
      "cell_type": "code",
      "source": "s=100\nr2=0.03\nh2=0.05\nb2=-0.05\nq2=(r2-b2)/(h2-b2)\n\nalpha1=[]\nbeta1=[]\nv1=[]\n\nalpha1.append((f2(s*((1+h2)**2))-f2(s*(1+h2)*(1+b2)))/((h2-b2)*s*(1+b2)))\nalpha1.append((f2(s*(1+h2)*(1+b2))-f2(s*((1+b2)**2)))/((h2-b2)*s*(1+b2)))\n\nbeta1.append((f2(s*(1+h2)*(1+b2))*(1+h2)-f2(s*((1+h2)**2))*(1+b2))/((h2-b2)*((1+r2)**2)))\nbeta1.append((f2(s*((1+b2)**2))*(1+h2)-f2(s*(1+h2)*(1+b2))*(1+b2))/((h2-b2)*((1+r2)**2)))\n\nv1.append((f2(s*((1+h2)**2))*q2 + f2(s*(1+h2)*(1+b2))*(1-q2))/(1+r2))\nv1.append((f2(s*(1+h2)*(1+b2))*q2 + f2(s*((1+b2)**2))*(1-q2))/(1+r2))\n\nalpha0=(v1[0]-v1[1])/(s*(h2-b2))\nbeta0=(v1[1]*(1+h2)-v1[0]*(1+b2))/((h2-b2)*(1+r2))\n\nprint(alpha1)\nprint(beta1)\nprint(alpha0)\nprint(beta0)",
      "metadata": {
        "trusted": true
      },
      "execution_count": 3,
      "outputs": [
        {
          "name": "stdout",
          "text": "[1.0789473684210527, 0.0]\n[-91.78527665189932, 0.0]\n0.7961165048543688\n-73.42822132151944\n",
          "output_type": "stream"
        }
      ]
    }
  ]
}